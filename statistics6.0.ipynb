{
 "cells": [
  {
   "cell_type": "markdown",
   "id": "7d58e624-301e-4728-9f8b-7deefd8d18d3",
   "metadata": {},
   "source": [
    "Q1: What is the difference between a t-test and a z-test? Provide an example scenario where you would\n",
    "use each type of test."
   ]
  },
  {
   "cell_type": "markdown",
   "id": "d5bc1188-9b09-4bb1-9fcc-857d82f953cf",
   "metadata": {},
   "source": [
    "      T-Test: Small sample size, unknown population standard deviation.\n",
    "      Example: Comparing test scores of two groups (n < 30).\n",
    "\n",
    "      Z-Test: Large sample size or known population standard deviation.\n",
    "     Example: Comparing university male student heights to national average (n > 30 or σ known)."
   ]
  },
  {
   "cell_type": "markdown",
   "id": "30389032-7584-4fa5-8836-f7ea5b632aff",
   "metadata": {},
   "source": [
    "Q2: Differentiate between one-tailed and two-tailed tests."
   ]
  },
  {
   "cell_type": "markdown",
   "id": "68906fe7-0720-4138-a686-49421d0c55ad",
   "metadata": {},
   "source": [
    "\n",
    "    One-Tailed Test: Directional, tests for a difference in one specific direction (greater than or less than).\n",
    "\n",
    "    Two-Tailed Test: Non-directional, tests for a difference in either direction (greater than or less than, not specified).\n"
   ]
  },
  {
   "cell_type": "markdown",
   "id": "02449a12-fb40-4517-86fb-13b794d1fec0",
   "metadata": {},
   "source": [
    "Q3: Explain the concept of Type 1 and Type 2 errors in hypothesis testing. Provide an example scenario for\n",
    "each type of error."
   ]
  },
  {
   "cell_type": "markdown",
   "id": "8d94a9e7-7649-4260-bb75-4aff15b81865",
   "metadata": {},
   "source": [
    "    Type 1 Error: False positive - Incorrectly rejecting a true null hypothesis.\n",
    "    Example: Convicting an innocent person in a court trial.\n",
    "\n",
    "    Type 2 Error: False negative - Incorrectly failing to reject a false null hypothesis.\n",
    "    Example: Failing to diagnose a disease in a patient who actually has it."
   ]
  },
  {
   "cell_type": "markdown",
   "id": "5e527da0-90bd-48ea-b784-4521daf4ff2e",
   "metadata": {},
   "source": [
    "Q4: Explain Bayes's theorem with an example."
   ]
  },
  {
   "cell_type": "markdown",
   "id": "7f1957c3-5a65-409f-9916-7922d83d0124",
   "metadata": {},
   "source": [
    "    Bayes's Theorem allows us to update the probability of an event based on new evidence. For example, in medical testing, it helps adjust the likelihood of having a disease given a positive test result."
   ]
  },
  {
   "cell_type": "markdown",
   "id": "a7de1eb0-47ad-4d8f-a288-77d8d970d0a1",
   "metadata": {},
   "source": [
    "Q5: What is a confidence interval? How to calculate the confidence interval, explain with an example."
   ]
  },
  {
   "cell_type": "markdown",
   "id": "00169040-8072-4332-93d4-ae4358d53eb1",
   "metadata": {},
   "source": [
    "    A confidence interval is a range of values within which we estimate the true population parameter to lie with a specified level of confidence. To calculate a confidence interval for the mean, use the formula: CI = Sample Mean ± (Critical Value * Standard Error). For example, with a 95% confidence level, a sample mean of 150 grams, and a standard error of 1 gram, the confidence interval is approximately (148.04 grams, 151.96 grams)."
   ]
  },
  {
   "cell_type": "markdown",
   "id": "3f267e19-4c6b-451b-a8ec-1b66a91ae7a1",
   "metadata": {},
   "source": [
    "Q6. Use Bayes' Theorem to calculate the probability of an event occurring given prior knowledge of the\n",
    "event's probability and new evidence. Provide a sample problem and solution."
   ]
  },
  {
   "cell_type": "markdown",
   "id": "98200228-3b3f-4f49-a68c-c6623de29bbc",
   "metadata": {},
   "source": [
    "Example Problem:\n",
    "\n",
    "    A manufacturing company produces two smartphone models: X and Y. Model X constitutes 20% of all smartphones (P(A) = 0.20), and 15% of Model X phones have battery issues (P(B|A) = 0.15). Model Y constitutes 10% of all smartphones (P(not A) = 0.80), and 5% of Model Y phones have battery issues (P(B|not A) = 0.05). Calculate the probability of a customer having Model X given a reported battery issue (P(A|B)).\n",
    "\n",
    "Solution:\n",
    "\n",
    "    P(A|B) ≈ 42.86%\n",
    "    The probability of the customer having Model X given the battery issue is approximately 42.86%."
   ]
  },
  {
   "cell_type": "markdown",
   "id": "f785c9a3-def0-42ec-a7d0-ce41aaffb232",
   "metadata": {},
   "source": [
    "Q7. Calculate the 95% confidence interval for a sample of data with a mean of 50 and a standard deviation\n",
    "of 5. Interpret the results."
   ]
  },
  {
   "cell_type": "code",
   "execution_count": 2,
   "id": "be9e667c-ab21-495c-8edf-72020953f664",
   "metadata": {},
   "outputs": [],
   "source": [
    "import scipy.stats as stats\n",
    "import numpy as np"
   ]
  },
  {
   "cell_type": "code",
   "execution_count": 25,
   "id": "6cfe6e75-e88b-4685-b680-3aa1e4814b31",
   "metadata": {},
   "outputs": [],
   "source": [
    "def values(sample_mean,sample_standard_deviantion,n,confidence):\n",
    "    standard_error=sample_standard_deviantion/(n)**0.5\n",
    "    critical_value=stats.norm.pdf(confidence)\n",
    "    ci_lowest=sample_mean-critical_value*standard_error\n",
    "    ci_highest=sample_mean+critical_value*standard_error\n",
    "    #return\n",
    "    print(\"{:.2f},{:.2f}\".format(ci_lowest,ci_highest))"
   ]
  },
  {
   "cell_type": "code",
   "execution_count": 26,
   "id": "840fc2e8-30f7-4091-9a8c-b1ce0dd62cb6",
   "metadata": {},
   "outputs": [
    {
     "name": "stdout",
     "output_type": "stream",
     "text": [
      "49.87,50.13\n"
     ]
    }
   ],
   "source": [
    "values(50,5,100,0.95)"
   ]
  },
  {
   "cell_type": "markdown",
   "id": "98781ba0-b63f-424b-93b1-da9c6a881a1c",
   "metadata": {},
   "source": [
    "Q8. What is the margin of error in a confidence interval? How does sample size affect the margin of error?\n",
    "Provide an example of a scenario where a larger sample size would result in a smaller margin of error."
   ]
  },
  {
   "cell_type": "markdown",
   "id": "66280aae-9012-424e-affd-c17855cb1859",
   "metadata": {},
   "source": [
    "The margin of error (MOE) in a confidence interval is the range of uncertainty around the sample estimate. A larger sample size reduces the MOE, providing a more precise estimate. For example, with a larger sample size, the MOE is smaller, resulting in a narrower confidence interval and greater confidence in the estimate."
   ]
  },
  {
   "cell_type": "markdown",
   "id": "f619e72c-10a1-43d0-9364-e8045df7c474",
   "metadata": {},
   "source": [
    "Q9. Calculate the z-score for a data point with a value of 75, a population mean of 70, and a population\n",
    "standard deviation of 5. Interpret the results."
   ]
  },
  {
   "cell_type": "code",
   "execution_count": 1,
   "id": "3279b6e2-51ec-4d89-8bb9-6941132f24e3",
   "metadata": {},
   "outputs": [
    {
     "name": "stdout",
     "output_type": "stream",
     "text": [
      "The z-score is: 1.0\n"
     ]
    }
   ],
   "source": [
    "data_point = 75\n",
    "population_mean = 70\n",
    "population_std_dev = 5\n",
    "z_score = (data_point - population_mean) / population_std_dev\n",
    "print(\"The z-score is:\", z_score)"
   ]
  },
  {
   "cell_type": "markdown",
   "id": "65b3f8e3-ab3a-4895-ac88-a6d41267e297",
   "metadata": {},
   "source": [
    "Q10. In a study of the effectiveness of a new weight loss drug, a sample of 50 participants lost an average\n",
    "of 6 pounds with a standard deviation of 2.5 pounds. Conduct a hypothesis test to determine if the drug is\n",
    "significantly effective at a 95% confidence level using a t-test."
   ]
  },
  {
   "cell_type": "code",
   "execution_count": 24,
   "id": "3ab19fff-37cd-4a05-be11-07209eeeadc8",
   "metadata": {},
   "outputs": [
    {
     "name": "stdout",
     "output_type": "stream",
     "text": [
      "The weight loss drug is significantly effective at a 95% confidence level.\n"
     ]
    }
   ],
   "source": [
    "sample_participants_mean=6\n",
    "sample_participants_std_dev=2.5\n",
    "number_of_participants=50\n",
    "confidence_intervel=0.95\n",
    "margin_of_error=sample_participants_std_dev/(number_of_participants)**0.5\n",
    "critical_data_value=stats.t.ppf(confidence_intervel,number_of_participants-1)\n",
    "t_statistic = (sample_mean - 0) / (sample_participants_std_dev / (number_of_participants ** 0.5))\n",
    "if t_statistic > critical_value:\n",
    "    print(\"The weight loss drug is significantly effective at a 95% confidence level.\")\n",
    "else:\n",
    "    print(\"There is no significant evidence that the weight loss drug is effective at a 95% confidence level.\")"
   ]
  },
  {
   "cell_type": "markdown",
   "id": "185d27aa-ee0c-49c0-99a8-92aa94ff10e3",
   "metadata": {},
   "source": [
    "Q11. In a survey of 500 people, 65% reported being satisfied with their current job. Calculate the 95%\n",
    "confidence interval for the true proportion of people who are satisfied with their job."
   ]
  },
  {
   "cell_type": "code",
   "execution_count": 26,
   "id": "6caf98c5-d933-4c68-a252-295a883e75c9",
   "metadata": {},
   "outputs": [
    {
     "name": "stdout",
     "output_type": "stream",
     "text": [
      "95% Confidence Interval: (0.6149, 0.6851)\n"
     ]
    }
   ],
   "source": [
    "sample_proportion = 0.65\n",
    "sample_size = 500\n",
    "standard_error = (sample_proportion * (1 - sample_proportion) / sample_size) ** 0.5\n",
    "confidence_level = 0.95\n",
    "critical_value = stats.norm.ppf(confidence_level)\n",
    "lower_bound = sample_proportion - critical_value * standard_error\n",
    "upper_bound = sample_proportion + critical_value * standard_error\n",
    "print(\"95% Confidence Interval: ({:.4f}, {:.4f})\".format(lower_bound, upper_bound))"
   ]
  },
  {
   "cell_type": "markdown",
   "id": "d6ce2d9b-5240-4e80-985a-fa27ba577e24",
   "metadata": {},
   "source": [
    "Q12. A researcher is testing the effectiveness of two different teaching methods on student performance.\n",
    "Sample A has a mean score of 85 with a standard deviation of 6, while sample B has a mean score of 82\n",
    "with a standard deviation of 5. Conduct a hypothesis test to determine if the two teaching methods have a\n",
    "significant difference in student performance using a t-test with a significance level of 0.01."
   ]
  },
  {
   "cell_type": "code",
   "execution_count": 3,
   "id": "d228aa07-39f8-4493-b422-0ce253ea1f96",
   "metadata": {},
   "outputs": [
    {
     "name": "stdout",
     "output_type": "stream",
     "text": [
      "There is a significant difference in student performance between the two teaching methods.\n"
     ]
    }
   ],
   "source": [
    "sample_A_mean = 85\n",
    "sample_A_std = 6\n",
    "sample_A_size = 100\n",
    "\n",
    "sample_B_mean = 82\n",
    "sample_B_std = 5\n",
    "sample_B_size = 100\n",
    "t_statistic, p_value = stats.ttest_ind_from_stats(sample_A_mean, sample_A_std, sample_A_size,sample_B_mean, sample_B_std, sample_B_size)\n",
    "significance_level = 0.01\n",
    "if p_value < significance_level:\n",
    "    print(\"There is a significant difference in student performance between the two teaching methods.\")\n",
    "else:\n",
    "    print(\"There is no significant difference in student performance between the two teaching methods.\")"
   ]
  },
  {
   "cell_type": "markdown",
   "id": "de4efae7-a9cb-4ed9-b17c-87ae06cb35f7",
   "metadata": {},
   "source": [
    "Q13. A population has a mean of 60 and a standard deviation of 8. A sample of 50 observations has a mean\n",
    "of 65. Calculate the 90% confidence interval for the true population mean."
   ]
  },
  {
   "cell_type": "code",
   "execution_count": 22,
   "id": "55d92233-e6b0-4ab8-859e-b2cd187bbc45",
   "metadata": {},
   "outputs": [],
   "source": [
    "def func(sample_m,population_st_dev,population_mean,confidence,n):\n",
    "    standard_error = population_st_dev/ (n ** 0.5)\n",
    "    critical_value = stats.norm.ppf(confidence)\n",
    "    lower_value = sample_m - critical_value * standard_error\n",
    "    upper_value = sample_m + critical_value * standard_error\n",
    "    return \"90% Confidence Interval: ({:.4f}, {:.4f})\".format(lower_value, upper_value)"
   ]
  },
  {
   "cell_type": "code",
   "execution_count": 23,
   "id": "11f413d4-e4a1-4fae-9a9e-5626369200f8",
   "metadata": {},
   "outputs": [
    {
     "data": {
      "text/plain": [
       "'90% Confidence Interval: (63.5501, 66.4499)'"
      ]
     },
     "execution_count": 23,
     "metadata": {},
     "output_type": "execute_result"
    }
   ],
   "source": [
    "func(65,8,60,0.9,50)"
   ]
  },
  {
   "cell_type": "markdown",
   "id": "6c9f4ddd-3938-4428-a0a0-bff8a353ecd2",
   "metadata": {},
   "source": [
    "Q14. In a study of the effects of caffeine on reaction time, a sample of 30 participants had an average\n",
    "reaction time of 0.25 seconds with a standard deviation of 0.05 seconds. Conduct a hypothesis test to\n",
    "determine if the caffeine has a significant effect on reaction time at a 90% confidence level using a t-test."
   ]
  },
  {
   "cell_type": "code",
   "execution_count": 44,
   "id": "f1fb8532-de89-4386-b82c-1503953b2fd9",
   "metadata": {},
   "outputs": [
    {
     "name": "stdout",
     "output_type": "stream",
     "text": [
      "There is no significant evidence that caffeine affects reaction time at a 90% confidence level.1.311433643950529\n"
     ]
    }
   ],
   "source": [
    "sample_mean = 0.25\n",
    "sample_std = 0.05\n",
    "sample_size = 30\n",
    "confidence_level = 0.90\n",
    "# Null Hypothesis (H0): Caffeine has no significant effect on reaction time (population mean <= 0.25)\n",
    "# Alternative Hypothesis (Ha): Caffeine has a significant effect on reaction time (population mean > 0.25)\n",
    "critical_value_ = stats.t.ppf(confidence_level,sample_size-1)\n",
    "\n",
    "if p_value < (1 - confidence_level):\n",
    "    print(\"Caffeine has a significant effect on reaction time at a 90% confidence level.\")\n",
    "else:\n",
    "    print(\"There is no significant evidence that caffeine affects reaction time at a 90% confidence level.{}\".format(critical_value_))"
   ]
  },
  {
   "cell_type": "code",
   "execution_count": null,
   "id": "1d443952-5034-40ff-bc2c-05ef3a25e979",
   "metadata": {},
   "outputs": [],
   "source": []
  },
  {
   "cell_type": "code",
   "execution_count": null,
   "id": "6320f08a-15b3-4ea5-9148-c63ada89a512",
   "metadata": {},
   "outputs": [],
   "source": []
  }
 ],
 "metadata": {
  "kernelspec": {
   "display_name": "Python 3 (ipykernel)",
   "language": "python",
   "name": "python3"
  },
  "language_info": {
   "codemirror_mode": {
    "name": "ipython",
    "version": 3
   },
   "file_extension": ".py",
   "mimetype": "text/x-python",
   "name": "python",
   "nbconvert_exporter": "python",
   "pygments_lexer": "ipython3",
   "version": "3.10.8"
  }
 },
 "nbformat": 4,
 "nbformat_minor": 5
}
